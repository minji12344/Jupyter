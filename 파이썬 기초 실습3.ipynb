{
 "cells": [
  {
   "cell_type": "markdown",
   "id": "36c62093",
   "metadata": {},
   "source": [
    "# 실습 01"
   ]
  },
  {
   "cell_type": "code",
   "execution_count": 13,
   "id": "55830976",
   "metadata": {},
   "outputs": [
    {
     "name": "stdout",
     "output_type": "stream",
     "text": [
      "안녕하세요 10\n",
      "안녕하세요 11\n",
      "안녕하세요 12\n",
      "안녕하세요 13\n",
      "안녕하세요 14\n",
      "안녕하세요 15\n",
      "안녕하세요 16\n",
      "안녕하세요 17\n",
      "안녕하세요 18\n",
      "안녕하세요 19\n"
     ]
    }
   ],
   "source": [
    "for value in range(10,20):\n",
    "    print(\"안녕하세요\", value)"
   ]
  },
  {
   "cell_type": "code",
   "execution_count": 23,
   "id": "1cd83dd2",
   "metadata": {},
   "outputs": [
    {
     "data": {
      "text/plain": [
       "[30, 60, 90, 200, -70, 50]"
      ]
     },
     "execution_count": 23,
     "metadata": {},
     "output_type": "execute_result"
    }
   ],
   "source": [
    "x = [3, 6, 9, 20, -7,5]\n",
    "\n",
    "# x[0] = x[0] * 10\n",
    "# x[1] = x[1] * 10\n",
    "# x[2] = x[2] * 10\n",
    "# x[3] = x[3] * 10\n",
    "# x[4] = x[4] * 10\n",
    "# x[5] = x[5] * 10\n",
    "\n",
    "\n",
    "for idx, value in enumerate(x):\n",
    "    #print(idx, value)\n",
    "    x[idx] = x[idx] * 10\n",
    "    \n",
    "x"
   ]
  },
  {
   "cell_type": "code",
   "execution_count": 31,
   "id": "0f538e55",
   "metadata": {},
   "outputs": [
    {
     "data": {
      "text/plain": [
       "[30, 60, 90, 200, -70, 50, 230]"
      ]
     },
     "execution_count": 31,
     "metadata": {},
     "output_type": "execute_result"
    }
   ],
   "source": [
    "x = [3, 6, 9, 20, -7,5, 23]\n",
    "\n",
    "for idx in range(len(x)):\n",
    "    #print(idx, value)\n",
    "    x[idx] = x[idx] * 10\n",
    "    \n",
    "x"
   ]
  },
  {
   "cell_type": "code",
   "execution_count": 32,
   "id": "17dd1afa",
   "metadata": {},
   "outputs": [
    {
     "data": {
      "text/plain": [
       "[0, 1, 2, 3, 4, 5]"
      ]
     },
     "execution_count": 32,
     "metadata": {},
     "output_type": "execute_result"
    }
   ],
   "source": [
    "x = [3, 6, 9, 20, -7,5]\n",
    "\n",
    "list(range(len(x)))"
   ]
  },
  {
   "cell_type": "code",
   "execution_count": 34,
   "id": "b5ef2adb",
   "metadata": {},
   "outputs": [
    {
     "data": {
      "text/plain": [
       "[(0, 3), (1, 6), (2, 9), (3, 20), (4, -7), (5, 5)]"
      ]
     },
     "execution_count": 34,
     "metadata": {},
     "output_type": "execute_result"
    }
   ],
   "source": [
    "x = [3, 6, 9, 20, -7,5]\n",
    "list(enumerate(x))"
   ]
  },
  {
   "cell_type": "code",
   "execution_count": 16,
   "id": "61e7deb8",
   "metadata": {},
   "outputs": [],
   "source": [
    "x = [3,6,9,20,-7,5]\n",
    "\n",
    "for idx,val in enumerate(x):\n",
    "    x[idx] = x[idx] *10"
   ]
  },
  {
   "cell_type": "code",
   "execution_count": 17,
   "id": "f9ed4eab",
   "metadata": {},
   "outputs": [
    {
     "data": {
      "text/plain": [
       "[30, 60, 90, 200, -70, 50]"
      ]
     },
     "execution_count": 17,
     "metadata": {},
     "output_type": "execute_result"
    }
   ],
   "source": [
    "x"
   ]
  },
  {
   "cell_type": "code",
   "execution_count": 36,
   "id": "205328e4",
   "metadata": {},
   "outputs": [],
   "source": [
    "y = {\"math\":70, \"science\":80, \"english\":20}\n",
    "\n",
    "# y['math'] += 10\n",
    "# y['science'] += 10\n",
    "# y['english'] += 10\n",
    "\n",
    "for idx in y:\n",
    "    y[idx] = y[idx] +10"
   ]
  },
  {
   "cell_type": "code",
   "execution_count": 37,
   "id": "0fd997c2",
   "metadata": {},
   "outputs": [
    {
     "data": {
      "text/plain": [
       "{'math': 80, 'science': 90, 'english': 30}"
      ]
     },
     "execution_count": 37,
     "metadata": {},
     "output_type": "execute_result"
    }
   ],
   "source": [
    "y"
   ]
  },
  {
   "cell_type": "code",
   "execution_count": 40,
   "id": "c4b7b83a",
   "metadata": {},
   "outputs": [
    {
     "data": {
      "text/plain": [
       "80"
      ]
     },
     "execution_count": 40,
     "metadata": {},
     "output_type": "execute_result"
    }
   ],
   "source": [
    "#    0  1  2   3    4    5\n",
    "x = [3, 6, 9, 20, -7,5, 23]\n",
    "y = {\n",
    "    \"math\":70,\n",
    "    \"science\":80,\n",
    "    \"english\":20\n",
    "}\n",
    "\n",
    "\n",
    "\n",
    "#x[1]\n",
    "y['science']"
   ]
  },
  {
   "cell_type": "code",
   "execution_count": 4,
   "id": "7f6a7d38",
   "metadata": {},
   "outputs": [
    {
     "name": "stdout",
     "output_type": "stream",
     "text": [
      "1 X 2\n",
      "1 X 2 = 2\n"
     ]
    }
   ],
   "source": [
    "x = 1\n",
    "y = 2\n",
    "\n",
    "print(str(x) + ' X ' + str(y))\n",
    "print(f'{x} X {y} = {x*y}')"
   ]
  },
  {
   "cell_type": "code",
   "execution_count": 9,
   "id": "5f85bf2f",
   "metadata": {
    "scrolled": false
   },
   "outputs": [
    {
     "name": "stdout",
     "output_type": "stream",
     "text": [
      "몇단을 출력하시겠습니까?  :3\n",
      "3 * 1 = 3\n",
      "3 * 2 = 6\n",
      "3 * 3 = 9\n",
      "3 * 4 = 12\n",
      "3 * 5 = 15\n",
      "3 * 6 = 18\n",
      "3 * 7 = 21\n",
      "3 * 8 = 24\n"
     ]
    }
   ],
   "source": [
    "z = int(input('몇단을 출력하시겠습니까?  :'))\n",
    "\n",
    "for num in range(1,9) :    \n",
    "    \n",
    "    print(f'{z} * {num} = {num*z}')\n",
    "#     print(str(z)+'*'+str(num)+'='+str'num+z')"
   ]
  },
  {
   "cell_type": "code",
   "execution_count": 8,
   "id": "c6f3883a",
   "metadata": {},
   "outputs": [
    {
     "name": "stdout",
     "output_type": "stream",
     "text": [
      "몇단을 출력하시겠습니까?  :3\n",
      "3 * 1 = 3\n",
      "3 * 2 = 6\n",
      "3 * 3 = 9\n",
      "3 * 4 = 12\n",
      "3 * 5 = 15\n",
      "3 * 6 = 18\n",
      "3 * 7 = 21\n",
      "3 * 8 = 24\n",
      "3 * 9 = 27\n"
     ]
    }
   ],
   "source": [
    "gugudan = int(input('몇단을 출력하시겠습니까?  :'))\n",
    "\n",
    "for num in range(1,10) :   \n",
    "    \n",
    "    print(f'{gugudan} * {num} = {num*gugudan}')"
   ]
  },
  {
   "cell_type": "code",
   "execution_count": null,
   "id": "d08b7a2e",
   "metadata": {},
   "outputs": [],
   "source": []
  },
  {
   "cell_type": "markdown",
   "id": "cfcc9c3f",
   "metadata": {},
   "source": [
    "# 실습 02"
   ]
  },
  {
   "cell_type": "code",
   "execution_count": 16,
   "id": "788cf1bf",
   "metadata": {},
   "outputs": [
    {
     "ename": "NameError",
     "evalue": "name 'printl' is not defined",
     "output_type": "error",
     "traceback": [
      "\u001b[1;31m---------------------------------------------------------------------------\u001b[0m",
      "\u001b[1;31mNameError\u001b[0m                                 Traceback (most recent call last)",
      "Cell \u001b[1;32mIn[16], line 5\u001b[0m\n\u001b[0;32m      1\u001b[0m word \u001b[38;5;241m=\u001b[39m [\u001b[38;5;124m'\u001b[39m\u001b[38;5;124mschool\u001b[39m\u001b[38;5;124m'\u001b[39m,\u001b[38;5;124m'\u001b[39m\u001b[38;5;124mgame\u001b[39m\u001b[38;5;124m'\u001b[39m,\u001b[38;5;124m'\u001b[39m\u001b[38;5;124mpiano\u001b[39m\u001b[38;5;124m'\u001b[39m,\u001b[38;5;124m'\u001b[39m\u001b[38;5;124mscience\u001b[39m\u001b[38;5;124m'\u001b[39m,\u001b[38;5;124m'\u001b[39m\u001b[38;5;124mhotel\u001b[39m\u001b[38;5;124m'\u001b[39m,\u001b[38;5;124m'\u001b[39m\u001b[38;5;124mmountian\u001b[39m\u001b[38;5;124m'\u001b[39m]\n\u001b[0;32m      3\u001b[0m \u001b[38;5;28;01mfor\u001b[39;00m value \u001b[38;5;129;01min\u001b[39;00m word :\n\u001b[0;32m      4\u001b[0m \u001b[38;5;66;03m#     print(value)\u001b[39;00m\n\u001b[1;32m----> 5\u001b[0m     printl(\u001b[38;5;28mlen\u001b[39m(value))\n",
      "\u001b[1;31mNameError\u001b[0m: name 'printl' is not defined"
     ]
    }
   ],
   "source": [
    "word = ['school','game','piano','science','hotel','mountian']\n",
    "\n",
    "for value in word :\n",
    "#     print(value)\n",
    "    printl(len(value))"
   ]
  },
  {
   "cell_type": "code",
   "execution_count": null,
   "id": "cea03ee0",
   "metadata": {},
   "outputs": [],
   "source": []
  },
  {
   "cell_type": "code",
   "execution_count": null,
   "id": "be03f0be",
   "metadata": {},
   "outputs": [],
   "source": []
  },
  {
   "cell_type": "code",
   "execution_count": 21,
   "id": "52fe7149",
   "metadata": {},
   "outputs": [
    {
     "name": "stdout",
     "output_type": "stream",
     "text": [
      "['school', 'science', 'mountian']\n"
     ]
    }
   ],
   "source": [
    "word = ['school','game','piano','science','hotel','mountian']\n",
    "new_word =[]\n",
    "\n",
    "for value in word :\n",
    "    \n",
    "    if len(value) >= 6 :\n",
    "        new_word.append(value)\n",
    "print(new_word)"
   ]
  },
  {
   "cell_type": "code",
   "execution_count": 23,
   "id": "13aa9e56",
   "metadata": {},
   "outputs": [
    {
     "name": "stdout",
     "output_type": "stream",
     "text": [
      "1 * 1 = 1\n",
      "1 * 2 = 2\n",
      "1 * 3 = 3\n",
      "1 * 4 = 4\n",
      "1 * 5 = 5\n",
      "1 * 6 = 6\n",
      "1 * 7 = 7\n",
      "1 * 8 = 8\n",
      "1 * 9 = 9\n",
      "2 * 1 = 2\n",
      "2 * 2 = 4\n",
      "2 * 3 = 6\n",
      "2 * 4 = 8\n",
      "2 * 5 = 10\n",
      "2 * 6 = 12\n",
      "2 * 7 = 14\n",
      "2 * 8 = 16\n",
      "2 * 9 = 18\n",
      "3 * 1 = 3\n",
      "3 * 2 = 6\n",
      "3 * 3 = 9\n",
      "3 * 4 = 12\n",
      "3 * 5 = 15\n",
      "3 * 6 = 18\n",
      "3 * 7 = 21\n",
      "3 * 8 = 24\n",
      "3 * 9 = 27\n",
      "4 * 1 = 4\n",
      "4 * 2 = 8\n",
      "4 * 3 = 12\n",
      "4 * 4 = 16\n",
      "4 * 5 = 20\n",
      "4 * 6 = 24\n",
      "4 * 7 = 28\n",
      "4 * 8 = 32\n",
      "4 * 9 = 36\n",
      "5 * 1 = 5\n",
      "5 * 2 = 10\n",
      "5 * 3 = 15\n",
      "5 * 4 = 20\n",
      "5 * 5 = 25\n",
      "5 * 6 = 30\n",
      "5 * 7 = 35\n",
      "5 * 8 = 40\n",
      "5 * 9 = 45\n",
      "6 * 1 = 6\n",
      "6 * 2 = 12\n",
      "6 * 3 = 18\n",
      "6 * 4 = 24\n",
      "6 * 5 = 30\n",
      "6 * 6 = 36\n",
      "6 * 7 = 42\n",
      "6 * 8 = 48\n",
      "6 * 9 = 54\n",
      "7 * 1 = 7\n",
      "7 * 2 = 14\n",
      "7 * 3 = 21\n",
      "7 * 4 = 28\n",
      "7 * 5 = 35\n",
      "7 * 6 = 42\n",
      "7 * 7 = 49\n",
      "7 * 8 = 56\n",
      "7 * 9 = 63\n",
      "8 * 1 = 8\n",
      "8 * 2 = 16\n",
      "8 * 3 = 24\n",
      "8 * 4 = 32\n",
      "8 * 5 = 40\n",
      "8 * 6 = 48\n",
      "8 * 7 = 56\n",
      "8 * 8 = 64\n",
      "8 * 9 = 72\n",
      "9 * 1 = 9\n",
      "9 * 2 = 18\n",
      "9 * 3 = 27\n",
      "9 * 4 = 36\n",
      "9 * 5 = 45\n",
      "9 * 6 = 54\n",
      "9 * 7 = 63\n",
      "9 * 8 = 72\n",
      "9 * 9 = 81\n"
     ]
    }
   ],
   "source": [
    "for x in range(1,10):\n",
    "    for y in range(1,10):\n",
    "        print(f'{x} * {y} = {x*y}')"
   ]
  },
  {
   "cell_type": "code",
   "execution_count": 5,
   "id": "bc7d3ddf",
   "metadata": {},
   "outputs": [
    {
     "name": "stdout",
     "output_type": "stream",
     "text": [
      "몇단을 출력하시겠습니까?  :1\n",
      "1 * 1 = 1\n",
      "1 * 2 = 2\n",
      "1 * 3 = 3\n",
      "1 * 4 = 4\n",
      "1 * 5 = 5\n",
      "1 * 6 = 6\n",
      "1 * 7 = 7\n",
      "1 * 8 = 8\n",
      "1 * 9 = 9\n"
     ]
    }
   ],
   "source": [
    "gugudan = int(input('몇단을 출력하시겠습니까?  :'))\n",
    "\n",
    "for num in range(1,10) :   \n",
    "    \n",
    "    print(f'{gugudan} * {num} = {num*gugudan}')"
   ]
  },
  {
   "cell_type": "code",
   "execution_count": 1,
   "id": "65812f18",
   "metadata": {},
   "outputs": [],
   "source": [
    "text ='1234'"
   ]
  },
  {
   "cell_type": "code",
   "execution_count": 2,
   "id": "7bda8203",
   "metadata": {},
   "outputs": [
    {
     "data": {
      "text/plain": [
       "1239"
      ]
     },
     "execution_count": 2,
     "metadata": {},
     "output_type": "execute_result"
    }
   ],
   "source": [
    "int(text) + 5"
   ]
  },
  {
   "cell_type": "code",
   "execution_count": 4,
   "id": "4c96a9a3",
   "metadata": {},
   "outputs": [],
   "source": [
    "x = 10\n",
    "x +=10"
   ]
  },
  {
   "cell_type": "code",
   "execution_count": null,
   "id": "6b3b140e",
   "metadata": {},
   "outputs": [],
   "source": [
    "def test():\n",
    "    return true\n"
   ]
  },
  {
   "cell_type": "code",
   "execution_count": 24,
   "id": "5f3dd1bd",
   "metadata": {},
   "outputs": [
    {
     "name": "stdout",
     "output_type": "stream",
     "text": [
      "3 -7\n",
      "6 -7\n",
      "6 5\n",
      "9 -7\n",
      "9 5\n",
      "20 -7\n",
      "20 5\n"
     ]
    }
   ],
   "source": [
    "x = [3, 6, 9, 20, -7, 5]\n",
    "\n",
    "for i in range(len(x)) :\n",
    "    for j in range(i+1, len(x)) :\n",
    "        if x[i]>x[j]:\n",
    "            print(x[i],x[j])"
   ]
  },
  {
   "cell_type": "code",
   "execution_count": 28,
   "id": "de89c24a",
   "metadata": {},
   "outputs": [],
   "source": [
    "x = [3, 6, 9, 20, -7, 5]"
   ]
  },
  {
   "cell_type": "code",
   "execution_count": 29,
   "id": "6ba98da6",
   "metadata": {},
   "outputs": [],
   "source": [
    "temp = x[0]\n",
    "x[0] = x[1]\n",
    "x[1] = temp"
   ]
  },
  {
   "cell_type": "code",
   "execution_count": 30,
   "id": "61f5efe1",
   "metadata": {},
   "outputs": [
    {
     "data": {
      "text/plain": [
       "[6, 3, 9, 20, -7, 5]"
      ]
     },
     "execution_count": 30,
     "metadata": {},
     "output_type": "execute_result"
    }
   ],
   "source": [
    "x"
   ]
  },
  {
   "cell_type": "markdown",
   "id": "96aa54eb",
   "metadata": {},
   "source": [
    "## 실습 3-2"
   ]
  },
  {
   "cell_type": "code",
   "execution_count": 48,
   "id": "0c27b52b",
   "metadata": {},
   "outputs": [
    {
     "name": "stdout",
     "output_type": "stream",
     "text": [
      "1\n",
      "2\n",
      "3의 배수\n",
      "4\n",
      "5의 배수\n",
      "3의 배수\n",
      "7\n",
      "8\n",
      "3의 배수\n",
      "5의 배수\n",
      "11\n",
      "3의 배수\n",
      "13\n",
      "14\n",
      "3과 5의 공배수\n",
      "16\n",
      "17\n",
      "3의 배수\n",
      "19\n",
      "5의 배수\n",
      "3의 배수\n",
      "22\n",
      "23\n",
      "3의 배수\n",
      "5의 배수\n",
      "26\n",
      "3의 배수\n",
      "28\n",
      "29\n",
      "3과 5의 공배수\n",
      "31\n",
      "32\n",
      "3의 배수\n",
      "34\n",
      "5의 배수\n",
      "3의 배수\n",
      "37\n",
      "38\n",
      "3의 배수\n",
      "5의 배수\n",
      "41\n",
      "3의 배수\n",
      "43\n",
      "44\n",
      "3과 5의 공배수\n",
      "46\n",
      "47\n",
      "3의 배수\n",
      "49\n",
      "5의 배수\n",
      "3의 배수\n",
      "52\n",
      "53\n",
      "3의 배수\n",
      "5의 배수\n",
      "56\n",
      "3의 배수\n",
      "58\n",
      "59\n",
      "3과 5의 공배수\n",
      "61\n",
      "62\n",
      "3의 배수\n",
      "64\n",
      "5의 배수\n",
      "3의 배수\n",
      "67\n",
      "68\n",
      "3의 배수\n",
      "5의 배수\n",
      "71\n",
      "3의 배수\n",
      "73\n",
      "74\n",
      "3과 5의 공배수\n",
      "76\n",
      "77\n",
      "3의 배수\n",
      "79\n",
      "5의 배수\n",
      "3의 배수\n",
      "82\n",
      "83\n",
      "3의 배수\n",
      "5의 배수\n",
      "86\n",
      "3의 배수\n",
      "88\n",
      "89\n",
      "3과 5의 공배수\n",
      "91\n",
      "92\n",
      "3의 배수\n",
      "94\n",
      "5의 배수\n",
      "3의 배수\n",
      "97\n",
      "98\n",
      "3의 배수\n",
      "5의 배수\n"
     ]
    }
   ],
   "source": [
    "for i in range(1, 101):\n",
    "    if i % 3 == 0 and  i % 5 ==0:\n",
    "        print('3과 5의 공배수')\n",
    "    elif i % 3 == 0:\n",
    "        print('3의 배수')\n",
    "    elif i % 5 ==0:\n",
    "        print('5의 배수')\n",
    "    else:\n",
    "        print(i)"
   ]
  },
  {
   "cell_type": "code",
   "execution_count": null,
   "id": "a5ffca06",
   "metadata": {},
   "outputs": [],
   "source": []
  },
  {
   "cell_type": "code",
   "execution_count": null,
   "id": "4535904c",
   "metadata": {},
   "outputs": [],
   "source": []
  },
  {
   "cell_type": "code",
   "execution_count": null,
   "id": "90e5b8d6",
   "metadata": {},
   "outputs": [],
   "source": []
  },
  {
   "cell_type": "code",
   "execution_count": null,
   "id": "ac9c2557",
   "metadata": {},
   "outputs": [],
   "source": []
  },
  {
   "cell_type": "code",
   "execution_count": null,
   "id": "7a66d28f",
   "metadata": {},
   "outputs": [],
   "source": []
  },
  {
   "cell_type": "code",
   "execution_count": null,
   "id": "ac3c9a34",
   "metadata": {},
   "outputs": [],
   "source": []
  },
  {
   "cell_type": "code",
   "execution_count": null,
   "id": "ebecc3d2",
   "metadata": {},
   "outputs": [],
   "source": []
  }
 ],
 "metadata": {
  "kernelspec": {
   "display_name": "Python 3 (ipykernel)",
   "language": "python",
   "name": "python3"
  },
  "language_info": {
   "codemirror_mode": {
    "name": "ipython",
    "version": 3
   },
   "file_extension": ".py",
   "mimetype": "text/x-python",
   "name": "python",
   "nbconvert_exporter": "python",
   "pygments_lexer": "ipython3",
   "version": "3.11.3"
  }
 },
 "nbformat": 4,
 "nbformat_minor": 5
}
