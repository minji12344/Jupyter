{
 "cells": [
  {
   "cell_type": "code",
   "execution_count": 36,
   "id": "6696d4c3",
   "metadata": {},
   "outputs": [
    {
     "name": "stdout",
     "output_type": "stream",
     "text": [
      "[1 2 3 4 5]\n",
      "[[1 2 3]\n",
      " [4 5 6]]\n"
     ]
    }
   ],
   "source": [
    "# Numpy(Numerical Python)\n",
    "# 과학, 공학 연산을 쉽게 하도록 지원하는 다차원 배열(multi-dimensional array)라이브러리\n",
    "# Numpy를 사용해서 대규모 배열 처리를 쉽게 하도록 하고, 파이썬 List 와는 차이가 있다.\n",
    "\n",
    "import numpy as np\n",
    "\n",
    "a = np.array([1,2,3,4,5])\n",
    "b = np.array([[1,2,3],[4,5,6]])\n",
    "\n",
    "print(a)\n",
    "print(b)"
   ]
  },
  {
   "cell_type": "code",
   "execution_count": 8,
   "id": "838c26c9",
   "metadata": {},
   "outputs": [
    {
     "name": "stdout",
     "output_type": "stream",
     "text": [
      "[0. 0. 0. 0. 0.]\n",
      "[[0. 0. 0. 0. 0. 0. 0. 0.]\n",
      " [0. 0. 0. 0. 0. 0. 0. 0.]]\n",
      "[[[0. 0. 0.]\n",
      "  [0. 0. 0.]\n",
      "  [0. 0. 0.]]\n",
      "\n",
      " [[0. 0. 0.]\n",
      "  [0. 0. 0.]\n",
      "  [0. 0. 0.]]\n",
      "\n",
      " [[0. 0. 0.]\n",
      "  [0. 0. 0.]\n",
      "  [0. 0. 0.]]]\n"
     ]
    }
   ],
   "source": [
    "arr1 = np.zeros(5)\n",
    "print(arr1)\n",
    "\n",
    "arr2 = np.zeros((2,8))\n",
    "print(arr2)\n",
    "\n",
    "arr3 = np.zeros((3,3,3))\n",
    "print(arr3)"
   ]
  },
  {
   "cell_type": "code",
   "execution_count": 11,
   "id": "3c6440cc",
   "metadata": {},
   "outputs": [
    {
     "name": "stdout",
     "output_type": "stream",
     "text": [
      "[1. 1. 1. 1. 1.]\n",
      "[[1. 1. 1. 1. 1. 1. 1. 1. 1. 1.]\n",
      " [1. 1. 1. 1. 1. 1. 1. 1. 1. 1.]\n",
      " [1. 1. 1. 1. 1. 1. 1. 1. 1. 1.]\n",
      " [1. 1. 1. 1. 1. 1. 1. 1. 1. 1.]\n",
      " [1. 1. 1. 1. 1. 1. 1. 1. 1. 1.]\n",
      " [1. 1. 1. 1. 1. 1. 1. 1. 1. 1.]\n",
      " [1. 1. 1. 1. 1. 1. 1. 1. 1. 1.]\n",
      " [1. 1. 1. 1. 1. 1. 1. 1. 1. 1.]\n",
      " [1. 1. 1. 1. 1. 1. 1. 1. 1. 1.]\n",
      " [1. 1. 1. 1. 1. 1. 1. 1. 1. 1.]]\n"
     ]
    }
   ],
   "source": [
    "arr1 = np.ones(5)\n",
    "print(arr1)\n",
    "\n",
    "arr2 = np.ones((10,10))\n",
    "print(arr2)"
   ]
  },
  {
   "cell_type": "code",
   "execution_count": 12,
   "id": "a7430920",
   "metadata": {},
   "outputs": [
    {
     "name": "stdout",
     "output_type": "stream",
     "text": [
      "[1. 1. 1. 1. 1.]\n",
      "[[0.00000000e+000 0.00000000e+000 0.00000000e+000]\n",
      " [0.00000000e+000 0.00000000e+000 7.01573217e-321]\n",
      " [6.95250701e-310 0.00000000e+000 6.95268724e-310]]\n"
     ]
    }
   ],
   "source": [
    "arr3 = np.empty(5)\n",
    "print(arr3)\n",
    "\n",
    "arr4 = np.empty((3,3))\n",
    "print(arr4)"
   ]
  },
  {
   "cell_type": "code",
   "execution_count": 13,
   "id": "e0d8f2f9",
   "metadata": {},
   "outputs": [
    {
     "name": "stdout",
     "output_type": "stream",
     "text": [
      "[0 1 2 3 4]\n",
      "[3 4 5 6 7 8 9]\n",
      "[1.  1.2 1.4 1.6 1.8 2.  2.2 2.4 2.6 2.8 3.  3.2 3.4 3.6 3.8 4.  4.2 4.4\n",
      " 4.6 4.8 5.  5.2 5.4 5.6 5.8 6.  6.2 6.4 6.6 6.8 7.  7.2 7.4 7.6 7.8 8.\n",
      " 8.2 8.4 8.6 8.8 9.  9.2 9.4 9.6 9.8]\n"
     ]
    }
   ],
   "source": [
    "arr1 = np.arange(5)\n",
    "print(arr1)\n",
    "\n",
    "arr2 = np.arange(3,10)\n",
    "print(arr2)\n",
    "\n",
    "arr3 = np.arange(1,10,0.2)\n",
    "print(arr3)"
   ]
  },
  {
   "cell_type": "code",
   "execution_count": 15,
   "id": "f9a52587",
   "metadata": {},
   "outputs": [
    {
     "name": "stdout",
     "output_type": "stream",
     "text": [
      "[0.   0.25 0.5  0.75 1.  ]\n",
      "[-10.          -7.77777778  -5.55555556  -3.33333333  -1.11111111\n",
      "   1.11111111   3.33333333   5.55555556   7.77777778  10.        ]\n"
     ]
    }
   ],
   "source": [
    "arr1 = np.linspace(0,1,5)\n",
    "print(arr1)\n",
    "\n",
    "arr2 = np.linspace(-10,10,10)\n",
    "print(arr2)"
   ]
  },
  {
   "cell_type": "code",
   "execution_count": 35,
   "id": "d76c07c5",
   "metadata": {},
   "outputs": [
    {
     "name": "stdout",
     "output_type": "stream",
     "text": [
      "[[1 2 3]\n",
      " [4 5 6]]\n",
      "[1 2 3 4 5 6]\n"
     ]
    }
   ],
   "source": [
    "# 변환 함수\n",
    "#  배열 형태 변환\n",
    "# 1차원 배열을 2차로 변환\n",
    "arr1= np.array([1,2,3,4,5,6])\n",
    "arr2 =arr1.reshape(2,3)\n",
    "print(arr2)\n",
    "# 2차원 배열을 1차원 배열로 변환\n",
    "arr1= arr2.flatten()\n",
    "print(arr1)"
   ]
  },
  {
   "cell_type": "code",
   "execution_count": 20,
   "id": "bd7a14f3",
   "metadata": {},
   "outputs": [
    {
     "name": "stdout",
     "output_type": "stream",
     "text": [
      "[1. 2. 3.]\n",
      "[1 2 3]\n"
     ]
    }
   ],
   "source": [
    "# 타입변환\n",
    "# 정수를 실수로 변환\n",
    "arr_int = np.array([1,2,3])\n",
    "arr_float = arr_int.astype(float)\n",
    "\n",
    "print(arr_float)\n",
    "\n",
    "# 문자열 배열을 정수형 배열로 변환\n",
    "arr_str = np.array(['1','2','3'])\n",
    "arr_int = arr_str.astype(int)\n",
    "print(arr_int)"
   ]
  },
  {
   "cell_type": "code",
   "execution_count": 24,
   "id": "d7b02911",
   "metadata": {},
   "outputs": [
    {
     "name": "stdout",
     "output_type": "stream",
     "text": [
      "[[1 3 5]\n",
      " [2 4 6]]\n",
      "[[1 2]\n",
      " [3 4]\n",
      " [5 6]]\n"
     ]
    }
   ],
   "source": [
    "# 축 변환\n",
    "b = np.array([[1,2],[3,4],[5,6]])\n",
    "trans = b. transpose()\n",
    "print(trans)\n",
    "\n",
    "print(np.transpose(trans))"
   ]
  },
  {
   "cell_type": "code",
   "execution_count": 29,
   "id": "0ac214f7",
   "metadata": {},
   "outputs": [
    {
     "name": "stdout",
     "output_type": "stream",
     "text": [
      "[[1 2]\n",
      " [3 4]\n",
      " [5 6]]\n",
      "21\n",
      "3.5\n",
      "1.707825127659933\n",
      "6\n",
      "1\n",
      "5\n",
      "0\n"
     ]
    }
   ],
   "source": [
    "# 집계함수\n",
    "\n",
    "print(b)\n",
    "print(b.sum())\n",
    "print(b.mean())\n",
    "print(b.std())\n",
    "print(b.max())\n",
    "print(b.min())\n",
    "print(b.argmax())\n",
    "print(b.argmin())"
   ]
  },
  {
   "cell_type": "code",
   "execution_count": 30,
   "id": "720a85d7",
   "metadata": {},
   "outputs": [
    {
     "name": "stdout",
     "output_type": "stream",
     "text": [
      "[ True False False False]\n",
      "[ True  True False  True]\n",
      "[False  True  True False]\n",
      "[False False  True  True]\n"
     ]
    }
   ],
   "source": [
    "# 논리함수\n",
    "arr1 = np.array([True, False, False, True])\n",
    "arr2 = np.array([True, True, False, False])\n",
    "\n",
    "print(np.logical_and(arr1,arr2))\n",
    "print(np.logical_or(arr1, arr2))\n",
    "print(np.logical_not(arr1))\n",
    "print(np.logical_not(arr2))"
   ]
  },
  {
   "cell_type": "code",
   "execution_count": null,
   "id": "14c81b8b",
   "metadata": {},
   "outputs": [],
   "source": []
  },
  {
   "cell_type": "code",
   "execution_count": null,
   "id": "ece967e0",
   "metadata": {},
   "outputs": [],
   "source": []
  },
  {
   "cell_type": "code",
   "execution_count": null,
   "id": "0db6721d",
   "metadata": {},
   "outputs": [],
   "source": []
  },
  {
   "cell_type": "code",
   "execution_count": null,
   "id": "6e6dfe0b",
   "metadata": {},
   "outputs": [],
   "source": []
  },
  {
   "cell_type": "code",
   "execution_count": null,
   "id": "4a3b3fee",
   "metadata": {},
   "outputs": [],
   "source": []
  },
  {
   "cell_type": "code",
   "execution_count": null,
   "id": "30a33b02",
   "metadata": {},
   "outputs": [],
   "source": []
  },
  {
   "cell_type": "code",
   "execution_count": null,
   "id": "b9bf4c7d",
   "metadata": {},
   "outputs": [],
   "source": []
  },
  {
   "cell_type": "code",
   "execution_count": null,
   "id": "665a2165",
   "metadata": {},
   "outputs": [],
   "source": []
  }
 ],
 "metadata": {
  "kernelspec": {
   "display_name": "Python 3 (ipykernel)",
   "language": "python",
   "name": "python3"
  },
  "language_info": {
   "codemirror_mode": {
    "name": "ipython",
    "version": 3
   },
   "file_extension": ".py",
   "mimetype": "text/x-python",
   "name": "python",
   "nbconvert_exporter": "python",
   "pygments_lexer": "ipython3",
   "version": "3.11.3"
  }
 },
 "nbformat": 4,
 "nbformat_minor": 5
}
