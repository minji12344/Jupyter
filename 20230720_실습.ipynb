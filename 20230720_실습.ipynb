{
 "cells": [
  {
   "cell_type": "code",
   "execution_count": 128,
   "id": "00daf808",
   "metadata": {},
   "outputs": [
    {
     "name": "stdout",
     "output_type": "stream",
     "text": [
      "몇단을 출력하시겠습니다?3\n",
      "3 * 1 = 3\n",
      "3 * 2 = 6\n",
      "3 * 3 = 9\n",
      "3 * 4 = 12\n",
      "3 * 5 = 15\n",
      "3 * 6 = 18\n",
      "3 * 7 = 21\n",
      "3 * 8 = 24\n"
     ]
    }
   ],
   "source": [
    "x = int(input(\"몇단을 출력하시겠습니다?\"))\n",
    "\n",
    "for i in range(1, 9):\n",
    "    #print(str(x) + ' * ' + str(i) + ' = ' + str(x*i))\n",
    "    print(f'{x} * {i} = {x*i}')"
   ]
  },
  {
   "cell_type": "code",
   "execution_count": 121,
   "id": "06fc6026",
   "metadata": {},
   "outputs": [
    {
     "data": {
      "text/plain": [
       "int"
      ]
     },
     "execution_count": 121,
     "metadata": {},
     "output_type": "execute_result"
    }
   ],
   "source": [
    "type(x)"
   ]
  },
  {
   "cell_type": "code",
   "execution_count": 136,
   "id": "7838e77e",
   "metadata": {},
   "outputs": [
    {
     "name": "stdout",
     "output_type": "stream",
     "text": [
      "['school', 'science', 'mountian']\n"
     ]
    }
   ],
   "source": [
    "word = ['school', 'game', 'piano', 'science', 'hotel', 'mountian']\n",
    "new_word = []\n",
    "\n",
    "for value in word:\n",
    "    if len(value) >= 6:\n",
    "        new_word.append(value)\n",
    "        \n",
    "print(new_word)"
   ]
  },
  {
   "cell_type": "code",
   "execution_count": 142,
   "id": "1d721343",
   "metadata": {},
   "outputs": [
    {
     "name": "stdout",
     "output_type": "stream",
     "text": [
      "2 * 1 = 2\n",
      "2 * 2 = 4\n",
      "2 * 3 = 6\n",
      "2 * 4 = 8\n",
      "2 * 5 = 10\n",
      "2 * 6 = 12\n",
      "2 * 7 = 14\n",
      "2 * 8 = 16\n",
      "2 * 9 = 18\n",
      "3 * 1 = 3\n",
      "3 * 2 = 6\n",
      "3 * 3 = 9\n",
      "3 * 4 = 12\n",
      "3 * 5 = 15\n",
      "3 * 6 = 18\n",
      "3 * 7 = 21\n",
      "3 * 8 = 24\n",
      "3 * 9 = 27\n",
      "4 * 1 = 4\n",
      "4 * 2 = 8\n",
      "4 * 3 = 12\n",
      "4 * 4 = 16\n",
      "4 * 5 = 20\n",
      "4 * 6 = 24\n",
      "4 * 7 = 28\n",
      "4 * 8 = 32\n",
      "4 * 9 = 36\n",
      "5 * 1 = 5\n",
      "5 * 2 = 10\n",
      "5 * 3 = 15\n",
      "5 * 4 = 20\n",
      "5 * 5 = 25\n",
      "5 * 6 = 30\n",
      "5 * 7 = 35\n",
      "5 * 8 = 40\n",
      "5 * 9 = 45\n",
      "6 * 1 = 6\n",
      "6 * 2 = 12\n",
      "6 * 3 = 18\n",
      "6 * 4 = 24\n",
      "6 * 5 = 30\n",
      "6 * 6 = 36\n",
      "6 * 7 = 42\n",
      "6 * 8 = 48\n",
      "6 * 9 = 54\n",
      "7 * 1 = 7\n",
      "7 * 2 = 14\n",
      "7 * 3 = 21\n",
      "7 * 4 = 28\n",
      "7 * 5 = 35\n",
      "7 * 6 = 42\n",
      "7 * 7 = 49\n",
      "7 * 8 = 56\n",
      "7 * 9 = 63\n",
      "8 * 1 = 8\n",
      "8 * 2 = 16\n",
      "8 * 3 = 24\n",
      "8 * 4 = 32\n",
      "8 * 5 = 40\n",
      "8 * 6 = 48\n",
      "8 * 7 = 56\n",
      "8 * 8 = 64\n",
      "8 * 9 = 72\n",
      "9 * 1 = 9\n",
      "9 * 2 = 18\n",
      "9 * 3 = 27\n",
      "9 * 4 = 36\n",
      "9 * 5 = 45\n",
      "9 * 6 = 54\n",
      "9 * 7 = 63\n",
      "9 * 8 = 72\n",
      "9 * 9 = 81\n"
     ]
    }
   ],
   "source": [
    "for x in range(2,10):\n",
    "    for y in range(1,10):\n",
    "        print(f'{x} * {y} = {x * y}')"
   ]
  },
  {
   "cell_type": "markdown",
   "id": "f9a0ad1c",
   "metadata": {},
   "source": [
    "#1 [3, 6, 9, 20, -7, 5]\n",
    "#2 [3, 6, 9, 20, -7, 5]\n",
    "#3 [3, 6, 9, 20, -7, 5]\n",
    "#4 [-7, 6, 9, 20, 3, 5]\n",
    "#5 [-7, 6, 9, 20, 3, 5]\n",
    "\n",
    "#1 [-7, 6, 9, 20, 3, 5]\n",
    "#2 [-7, 6, 9, 20, 3, 5]\n",
    "#3 [-7, 3, 9, 20, 6, 5]\n",
    "#4 [-7, 3, 9, 20, 6, 5]\n",
    "\n",
    "#1 [-7, 3, 9, 20, 6, 5]\n",
    "#2 [-7, 3, 6, 20, 9, 5]\n",
    "#2 [-7, 3, 5, 20, 9, 6]"
   ]
  },
  {
   "cell_type": "code",
   "execution_count": 164,
   "id": "8ae12e2d",
   "metadata": {},
   "outputs": [
    {
     "data": {
      "text/plain": [
       "[-7, 3, 5, 6, 9, 20]"
      ]
     },
     "execution_count": 164,
     "metadata": {},
     "output_type": "execute_result"
    }
   ],
   "source": [
    "x = [3, 6, 9, 20, -7, 5]\n",
    "\n",
    "for i in range(len(x)):\n",
    "    for j in range(i + 1,len(x)):\n",
    "        if x[i] > x[j]:            \n",
    "            temp = x[i]\n",
    "            x[i] = x[j]\n",
    "            x[j] = temp\n",
    "            \n",
    "x"
   ]
  },
  {
   "cell_type": "code",
   "execution_count": 177,
   "id": "d98b1918",
   "metadata": {},
   "outputs": [
    {
     "name": "stdout",
     "output_type": "stream",
     "text": [
      "1\n",
      "2\n",
      "3의배수\n",
      "4\n",
      "5의배수\n",
      "3의배수\n",
      "7\n",
      "8\n",
      "3의배수\n",
      "5의배수\n",
      "11\n",
      "3의배수\n",
      "13\n",
      "14\n",
      "3과 5의 공배수\n",
      "16\n",
      "17\n",
      "3의배수\n",
      "19\n",
      "5의배수\n",
      "3의배수\n",
      "22\n",
      "23\n",
      "3의배수\n",
      "5의배수\n",
      "26\n",
      "3의배수\n",
      "28\n",
      "29\n",
      "3과 5의 공배수\n",
      "31\n",
      "32\n",
      "3의배수\n",
      "34\n",
      "5의배수\n",
      "3의배수\n",
      "37\n",
      "38\n",
      "3의배수\n",
      "5의배수\n",
      "41\n",
      "3의배수\n",
      "43\n",
      "44\n",
      "3과 5의 공배수\n",
      "46\n",
      "47\n",
      "3의배수\n",
      "49\n",
      "5의배수\n",
      "3의배수\n",
      "52\n",
      "53\n",
      "3의배수\n",
      "5의배수\n",
      "56\n",
      "3의배수\n",
      "58\n",
      "59\n",
      "3과 5의 공배수\n",
      "61\n",
      "62\n",
      "3의배수\n",
      "64\n",
      "5의배수\n",
      "3의배수\n",
      "67\n",
      "68\n",
      "3의배수\n",
      "5의배수\n",
      "71\n",
      "3의배수\n",
      "73\n",
      "74\n",
      "3과 5의 공배수\n",
      "76\n",
      "77\n",
      "3의배수\n",
      "79\n",
      "5의배수\n",
      "3의배수\n",
      "82\n",
      "83\n",
      "3의배수\n",
      "5의배수\n",
      "86\n",
      "3의배수\n",
      "88\n",
      "89\n",
      "3과 5의 공배수\n",
      "91\n",
      "92\n",
      "3의배수\n",
      "94\n",
      "5의배수\n",
      "3의배수\n",
      "97\n",
      "98\n",
      "3의배수\n",
      "5의배수\n"
     ]
    }
   ],
   "source": [
    "for i in range(1, 101):    \n",
    "    if i % 3 == 0 and i % 5 == 0:\n",
    "        print('3과 5의 공배수')\n",
    "    elif i % 3 == 0:\n",
    "        print('3의배수')\n",
    "    elif i % 5 == 0:\n",
    "        print('5의배수')\n",
    "    else:\n",
    "        print(i)"
   ]
  },
  {
   "cell_type": "code",
   "execution_count": null,
   "id": "ea8f4219",
   "metadata": {},
   "outputs": [],
   "source": []
  },
  {
   "cell_type": "code",
   "execution_count": null,
   "id": "c488ceaf",
   "metadata": {},
   "outputs": [],
   "source": []
  },
  {
   "cell_type": "code",
   "execution_count": null,
   "id": "fef24c54",
   "metadata": {},
   "outputs": [],
   "source": []
  },
  {
   "cell_type": "code",
   "execution_count": null,
   "id": "eb76d4ed",
   "metadata": {},
   "outputs": [],
   "source": []
  },
  {
   "cell_type": "code",
   "execution_count": null,
   "id": "d5b360cb",
   "metadata": {},
   "outputs": [],
   "source": []
  },
  {
   "cell_type": "code",
   "execution_count": null,
   "id": "d1c55241",
   "metadata": {},
   "outputs": [],
   "source": []
  },
  {
   "cell_type": "code",
   "execution_count": null,
   "id": "76d40514",
   "metadata": {},
   "outputs": [],
   "source": []
  },
  {
   "cell_type": "code",
   "execution_count": null,
   "id": "4788727e",
   "metadata": {},
   "outputs": [],
   "source": []
  }
 ],
 "metadata": {
  "kernelspec": {
   "display_name": "Python 3 (ipykernel)",
   "language": "python",
   "name": "python3"
  },
  "language_info": {
   "codemirror_mode": {
    "name": "ipython",
    "version": 3
   },
   "file_extension": ".py",
   "mimetype": "text/x-python",
   "name": "python",
   "nbconvert_exporter": "python",
   "pygments_lexer": "ipython3",
   "version": "3.11.3"
  }
 },
 "nbformat": 4,
 "nbformat_minor": 5
}
