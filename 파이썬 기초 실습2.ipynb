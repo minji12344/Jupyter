{
 "cells": [
  {
   "cell_type": "markdown",
   "id": "fa0c9f93",
   "metadata": {},
   "source": [
    "# 연습문제 7"
   ]
  },
  {
   "cell_type": "code",
   "execution_count": 12,
   "id": "3c22373a",
   "metadata": {},
   "outputs": [
    {
     "name": "stdout",
     "output_type": "stream",
     "text": [
      "점수를 입력해주세요 :90\n",
      "축하합니다. 당신은합격입니다.\n"
     ]
    }
   ],
   "source": [
    "x = int(input('점수를 입력해주세요 :'))\n",
    "if x>=90 : \n",
    "    print('축하합니다. 당신은합격입니다.')"
   ]
  },
  {
   "cell_type": "markdown",
   "id": "f51c3d7e",
   "metadata": {},
   "source": [
    "# 연습문제 8"
   ]
  },
  {
   "cell_type": "code",
   "execution_count": 5,
   "id": "30429f75",
   "metadata": {},
   "outputs": [
    {
     "name": "stdout",
     "output_type": "stream",
     "text": [
      "점수를 입력해주세요 : 5465\n",
      "축하합니다. 당신은 합격입니다.\n"
     ]
    }
   ],
   "source": [
    "x = int(input('점수를 입력해주세요 : '))\n",
    "if x>=90 :\n",
    "    print('축하합니다. 당신은 합격입니다.')\n",
    "else :\n",
    "    print('아쉽게도 불합격입니다.')"
   ]
  },
  {
   "cell_type": "markdown",
   "id": "ae1bf02a",
   "metadata": {},
   "source": [
    "# 연습문제 9"
   ]
  },
  {
   "cell_type": "code",
   "execution_count": 7,
   "id": "0cada36a",
   "metadata": {},
   "outputs": [
    {
     "name": "stdout",
     "output_type": "stream",
     "text": [
      "점수를 입력해주세요 : 88\n",
      "good\n"
     ]
    }
   ],
   "source": [
    "x= int(input('점수를 입력해주세요 : '))\n",
    "if x>=90 : \n",
    "    print('very good')\n",
    "elif 85 <= x < 90:\n",
    "    print('good')\n",
    "else : \n",
    "    print('bad')"
   ]
  },
  {
   "cell_type": "markdown",
   "id": "e116a7a4",
   "metadata": {},
   "source": [
    "# 연습문제 10"
   ]
  },
  {
   "cell_type": "code",
   "execution_count": 10,
   "id": "9920f692",
   "metadata": {},
   "outputs": [
    {
     "name": "stdout",
     "output_type": "stream",
     "text": [
      "점수를 입력해주세요 : 85\n",
      "good\n"
     ]
    }
   ],
   "source": [
    "x= int(input('점수를 입력해주세요 : '))\n",
    "if x>=90 :\n",
    "    if x==100 :\n",
    "        print('perfect')\n",
    "    else :\n",
    "        print('very good')\n",
    "elif 80<x<90 :\n",
    "    print('good')\n",
    "else :\n",
    "    print('bad')"
   ]
  },
  {
   "cell_type": "markdown",
   "id": "505916fe",
   "metadata": {},
   "source": [
    "# for 문 반복문"
   ]
  },
  {
   "cell_type": "code",
   "execution_count": 1,
   "id": "970ec3b1",
   "metadata": {},
   "outputs": [
    {
     "name": "stdout",
     "output_type": "stream",
     "text": [
      "0\n",
      "2\n",
      "4\n",
      "6\n",
      "8\n"
     ]
    }
   ],
   "source": [
    "for x in range(0, 10, 2) :\n",
    "    print(x)"
   ]
  },
  {
   "cell_type": "code",
   "execution_count": 13,
   "id": "2900a2db",
   "metadata": {},
   "outputs": [
    {
     "name": "stdout",
     "output_type": "stream",
     "text": [
      "apple\n",
      "banana\n",
      "orange\n"
     ]
    }
   ],
   "source": [
    "fruit = ['apple','banana', 'orange']\n",
    "\n",
    "for x in fruit :\n",
    "    print(x)"
   ]
  },
  {
   "cell_type": "code",
   "execution_count": 13,
   "id": "66aea658",
   "metadata": {},
   "outputs": [
    {
     "name": "stdout",
     "output_type": "stream",
     "text": [
      "숫자를 입력하세요 : 7\n",
      "0\n",
      "2\n",
      "4\n",
      "6\n"
     ]
    }
   ],
   "source": [
    "x = int(input('숫자를 입력하세요 : '))\n",
    "\n",
    "for num in range(0,x+1,2) :\n",
    "    print(num)"
   ]
  },
  {
   "cell_type": "markdown",
   "id": "8c67fe02",
   "metadata": {},
   "source": [
    "# 연습문제 11"
   ]
  },
  {
   "cell_type": "code",
   "execution_count": 21,
   "id": "788dbb66",
   "metadata": {},
   "outputs": [
    {
     "name": "stdout",
     "output_type": "stream",
     "text": [
      "숫자를 입력하세요 : 10\n",
      "0\n",
      "2\n",
      "4\n",
      "6\n",
      "8\n",
      "10\n"
     ]
    }
   ],
   "source": [
    "x = int(input('숫자를 입력하세요 : '))\n",
    "\n",
    "for num in range(x+1):\n",
    "    if num%2 == 0:\n",
    "        print(num)"
   ]
  },
  {
   "cell_type": "code",
   "execution_count": null,
   "id": "dccab46c",
   "metadata": {},
   "outputs": [],
   "source": []
  }
 ],
 "metadata": {
  "kernelspec": {
   "display_name": "Python 3 (ipykernel)",
   "language": "python",
   "name": "python3"
  },
  "language_info": {
   "codemirror_mode": {
    "name": "ipython",
    "version": 3
   },
   "file_extension": ".py",
   "mimetype": "text/x-python",
   "name": "python",
   "nbconvert_exporter": "python",
   "pygments_lexer": "ipython3",
   "version": "3.11.3"
  }
 },
 "nbformat": 4,
 "nbformat_minor": 5
}
