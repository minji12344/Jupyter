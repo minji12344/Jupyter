{
 "cells": [
  {
   "cell_type": "markdown",
   "id": "6247de60",
   "metadata": {},
   "source": [
    "# 마크다운 실습하기"
   ]
  },
  {
   "cell_type": "markdown",
   "id": "ddc13911",
   "metadata": {},
   "source": [
    "# 큰제목\n",
    "## 중간제목\n",
    "### 소제목"
   ]
  },
  {
   "cell_type": "markdown",
   "id": "5fee7b0d",
   "metadata": {},
   "source": [
    "문구안에 특정부분을 **강조** 할 수 있어요"
   ]
  },
  {
   "cell_type": "code",
   "execution_count": 10,
   "id": "4387cd4c",
   "metadata": {},
   "outputs": [
    {
     "name": "stdout",
     "output_type": "stream",
     "text": [
      "민지\n"
     ]
    }
   ],
   "source": [
    "print(\"민지\")"
   ]
  },
  {
   "cell_type": "code",
   "execution_count": 13,
   "id": "1c17af5e",
   "metadata": {},
   "outputs": [
    {
     "name": "stdout",
     "output_type": "stream",
     "text": [
      "hello\n"
     ]
    }
   ],
   "source": [
    "print(\"hello\")"
   ]
  },
  {
   "cell_type": "code",
   "execution_count": 14,
   "id": "da173238",
   "metadata": {},
   "outputs": [
    {
     "data": {
      "text/plain": [
       "3"
      ]
     },
     "execution_count": 14,
     "metadata": {},
     "output_type": "execute_result"
    }
   ],
   "source": [
    "a = 1\n",
    "b = 2\n",
    "# 덧셈\n",
    "a+b"
   ]
  },
  {
   "cell_type": "code",
   "execution_count": 15,
   "id": "f42a3097",
   "metadata": {},
   "outputs": [
    {
     "name": "stdout",
     "output_type": "stream",
     "text": [
      "민지\n"
     ]
    }
   ],
   "source": [
    "x = input()"
   ]
  },
  {
   "cell_type": "code",
   "execution_count": 16,
   "id": "e817e95f",
   "metadata": {},
   "outputs": [
    {
     "data": {
      "text/plain": [
       "'민지'"
      ]
     },
     "execution_count": 16,
     "metadata": {},
     "output_type": "execute_result"
    }
   ],
   "source": [
    "x"
   ]
  },
  {
   "cell_type": "code",
   "execution_count": 18,
   "id": "07b705d2",
   "metadata": {},
   "outputs": [
    {
     "name": "stdout",
     "output_type": "stream",
     "text": [
      "이름을 입력해주세요  :김 민지\n"
     ]
    }
   ],
   "source": [
    "x = input(\"이름을 입력해주세요  :\")"
   ]
  },
  {
   "cell_type": "code",
   "execution_count": 19,
   "id": "dd54d47c",
   "metadata": {},
   "outputs": [
    {
     "data": {
      "text/plain": [
       "'김 민지'"
      ]
     },
     "execution_count": 19,
     "metadata": {},
     "output_type": "execute_result"
    }
   ],
   "source": [
    "x"
   ]
  },
  {
   "cell_type": "code",
   "execution_count": 20,
   "id": "90765139",
   "metadata": {},
   "outputs": [
    {
     "name": "stdout",
     "output_type": "stream",
     "text": [
      "김 민지\n"
     ]
    }
   ],
   "source": [
    "print(x)"
   ]
  },
  {
   "cell_type": "code",
   "execution_count": 27,
   "id": "a28926a2",
   "metadata": {},
   "outputs": [
    {
     "name": "stdout",
     "output_type": "stream",
     "text": [
      "50\n"
     ]
    }
   ],
   "source": [
    "x = 20\n",
    "y = 30\n",
    "c = x+y\n",
    "print(c)"
   ]
  },
  {
   "cell_type": "code",
   "execution_count": 28,
   "id": "7dea95f9",
   "metadata": {},
   "outputs": [],
   "source": [
    "x = 10"
   ]
  },
  {
   "cell_type": "code",
   "execution_count": 29,
   "id": "c84dc181",
   "metadata": {},
   "outputs": [
    {
     "data": {
      "text/plain": [
       "20"
      ]
     },
     "execution_count": 29,
     "metadata": {},
     "output_type": "execute_result"
    }
   ],
   "source": [
    "x+10"
   ]
  },
  {
   "cell_type": "code",
   "execution_count": 30,
   "id": "42146d69",
   "metadata": {},
   "outputs": [
    {
     "name": "stdout",
     "output_type": "stream",
     "text": [
      "10\n"
     ]
    }
   ],
   "source": [
    "print(x)"
   ]
  },
  {
   "cell_type": "code",
   "execution_count": 32,
   "id": "909fd2e1",
   "metadata": {},
   "outputs": [
    {
     "name": "stdout",
     "output_type": "stream",
     "text": [
      "20\n"
     ]
    }
   ],
   "source": [
    "x = 10\n",
    "x +=10\n",
    "print(x)"
   ]
  },
  {
   "cell_type": "markdown",
   "id": "e402ecd6",
   "metadata": {},
   "source": [
    "# 연습문제 1"
   ]
  },
  {
   "cell_type": "code",
   "execution_count": 34,
   "id": "cb68c254",
   "metadata": {},
   "outputs": [
    {
     "name": "stdout",
     "output_type": "stream",
     "text": [
      "30\n"
     ]
    }
   ],
   "source": [
    "x = 10\n",
    "y = 20\n",
    "c = x+y\n",
    "print(c)"
   ]
  },
  {
   "cell_type": "code",
   "execution_count": 35,
   "id": "a3bdd2d4",
   "metadata": {},
   "outputs": [
    {
     "name": "stdout",
     "output_type": "stream",
     "text": [
      "200\n"
     ]
    }
   ],
   "source": [
    "x = 10\n",
    "y = 20\n",
    "c = x*y\n",
    "print(c)"
   ]
  },
  {
   "cell_type": "code",
   "execution_count": 36,
   "id": "39049432",
   "metadata": {},
   "outputs": [
    {
     "name": "stdout",
     "output_type": "stream",
     "text": [
      "6000\n"
     ]
    }
   ],
   "source": [
    "x = 10\n",
    "y = 20\n",
    "c = (x+y)*c\n",
    "print(c)"
   ]
  },
  {
   "cell_type": "code",
   "execution_count": 38,
   "id": "0959538a",
   "metadata": {},
   "outputs": [
    {
     "name": "stdout",
     "output_type": "stream",
     "text": [
      "10\n",
      "20\n"
     ]
    }
   ],
   "source": [
    "x = input()\n",
    "y = input()"
   ]
  },
  {
   "cell_type": "code",
   "execution_count": 39,
   "id": "1f72a715",
   "metadata": {},
   "outputs": [
    {
     "name": "stdout",
     "output_type": "stream",
     "text": [
      "10\n",
      "20\n"
     ]
    },
    {
     "data": {
      "text/plain": [
       "(None, None)"
      ]
     },
     "execution_count": 39,
     "metadata": {},
     "output_type": "execute_result"
    }
   ],
   "source": [
    "print(x), print(y)"
   ]
  },
  {
   "cell_type": "code",
   "execution_count": 40,
   "id": "5a7d478a",
   "metadata": {},
   "outputs": [
    {
     "data": {
      "text/plain": [
       "30"
      ]
     },
     "execution_count": 40,
     "metadata": {},
     "output_type": "execute_result"
    }
   ],
   "source": [
    "x = int(x)\n",
    "y = int(y)\n",
    "x+y"
   ]
  },
  {
   "cell_type": "code",
   "execution_count": 41,
   "id": "77d55162",
   "metadata": {},
   "outputs": [
    {
     "data": {
      "text/plain": [
       "200"
      ]
     },
     "execution_count": 41,
     "metadata": {},
     "output_type": "execute_result"
    }
   ],
   "source": [
    "x*y"
   ]
  },
  {
   "cell_type": "code",
   "execution_count": 42,
   "id": "122271da",
   "metadata": {},
   "outputs": [
    {
     "name": "stdout",
     "output_type": "stream",
     "text": [
      "x : 30\n",
      "y : 40\n",
      "70\n",
      "1200\n"
     ]
    }
   ],
   "source": [
    "x = int(input(\"x : \"))\n",
    "y = int(input(\"y : \"))\n",
    "print(x+y)\n",
    "print(x*y)"
   ]
  },
  {
   "cell_type": "code",
   "execution_count": 43,
   "id": "011210bc",
   "metadata": {},
   "outputs": [
    {
     "data": {
      "text/plain": [
       "70"
      ]
     },
     "execution_count": 43,
     "metadata": {},
     "output_type": "execute_result"
    }
   ],
   "source": [
    "x+y"
   ]
  },
  {
   "cell_type": "markdown",
   "id": "2c4f612b",
   "metadata": {},
   "source": [
    "# 연습문제2"
   ]
  },
  {
   "cell_type": "code",
   "execution_count": 51,
   "id": "3aede3b4",
   "metadata": {},
   "outputs": [
    {
     "data": {
      "text/plain": [
       "2.2"
      ]
     },
     "execution_count": 51,
     "metadata": {},
     "output_type": "execute_result"
    }
   ],
   "source": [
    "a = 11\n",
    "b = 5.0\n",
    "a/b"
   ]
  },
  {
   "cell_type": "code",
   "execution_count": 46,
   "id": "d887249d",
   "metadata": {},
   "outputs": [
    {
     "data": {
      "text/plain": [
       "2.0"
      ]
     },
     "execution_count": 46,
     "metadata": {},
     "output_type": "execute_result"
    }
   ],
   "source": [
    "a = 11\n",
    "b = 5.0\n",
    "a//b"
   ]
  },
  {
   "cell_type": "code",
   "execution_count": 55,
   "id": "265d152b",
   "metadata": {},
   "outputs": [
    {
     "name": "stdout",
     "output_type": "stream",
     "text": [
      "c : 2\n",
      "d : 1\n",
      "e : 161051.0\n"
     ]
    }
   ],
   "source": [
    "a = 11\n",
    "b = 5.0\n",
    "c = int(a//b)\n",
    "d = int(a%b)\n",
    "e = a**b\n",
    "print(\"c :\", c)\n",
    "print(\"d :\", d)\n",
    "print(\"e :\", e)"
   ]
  },
  {
   "cell_type": "code",
   "execution_count": 52,
   "id": "d0a94c08",
   "metadata": {},
   "outputs": [
    {
     "name": "stdout",
     "output_type": "stream",
     "text": [
      "2.0 1.0 161051.0\n"
     ]
    }
   ],
   "source": [
    "a = 11\n",
    "b = 5.0\n",
    "c = a//b\n",
    "d = a%b\n",
    "e = a**b\n",
    "print(c, d, e)"
   ]
  },
  {
   "cell_type": "markdown",
   "id": "296ff56b",
   "metadata": {},
   "source": [
    "# 연습문제 3"
   ]
  },
  {
   "cell_type": "code",
   "execution_count": 60,
   "id": "b63b9f56",
   "metadata": {},
   "outputs": [
    {
     "name": "stdout",
     "output_type": "stream",
     "text": [
      "반지름을 입력하세요20\n",
      "원 넓이는 :  1256.6370614 입니다.\n"
     ]
    }
   ],
   "source": [
    "pi = 3.1415926535\n",
    "r = float(input(\"반지름을 입력하세요\"))\n",
    "print(\"원 넓이는 : \", r*r*pi, \"입니다.\")"
   ]
  },
  {
   "cell_type": "code",
   "execution_count": 67,
   "id": "bb520646",
   "metadata": {},
   "outputs": [
    {
     "name": "stdout",
     "output_type": "stream",
     "text": [
      "원 넓이는 1256.6370614 입니다.\n"
     ]
    }
   ],
   "source": [
    "print(f'원 넓이는 {r*r*pi} 입니다.')"
   ]
  },
  {
   "cell_type": "markdown",
   "id": "a730107c",
   "metadata": {},
   "source": [
    "# 연습문제 4"
   ]
  },
  {
   "cell_type": "code",
   "execution_count": 71,
   "id": "11ea65b7",
   "metadata": {},
   "outputs": [
    {
     "name": "stdout",
     "output_type": "stream",
     "text": [
      "사용자 1 : 80\n",
      "사용자 2 : 90\n",
      "사용자 3 : 67\n",
      "True\n"
     ]
    }
   ],
   "source": [
    "x = int(input(\"사용자 1 : \"))\n",
    "y = int(input(\"사용자 2 : \"))\n",
    "z = int(input(\"사용자 3 : \"))\n",
    "\n",
    "a = x > 65 and y > 65 and z > 65\n",
    "print(a)"
   ]
  },
  {
   "cell_type": "code",
   "execution_count": 72,
   "id": "1ba6000e",
   "metadata": {},
   "outputs": [
    {
     "name": "stdout",
     "output_type": "stream",
     "text": [
      "첫번째 점수 :20\n",
      "두번째 점수 :60\n",
      "세번째 점수 :70\n",
      "점수에 대한 결과는False입니다\n"
     ]
    }
   ],
   "source": [
    "first = int(input('첫번째 점수 :'))\n",
    "second = int(input('두번째 점수 :'))\n",
    "third = int(input('세번째 점수 :'))\n",
    "\n",
    "result = first > 65 and second > 65 and third > 65\n",
    "print(f'점수에 대한 결과는{result}입니다')"
   ]
  },
  {
   "cell_type": "markdown",
   "id": "f86ebf35",
   "metadata": {},
   "source": [
    "# 연습문제 5"
   ]
  },
  {
   "cell_type": "code",
   "execution_count": 75,
   "id": "2c4ddf04",
   "metadata": {},
   "outputs": [
    {
     "data": {
      "text/plain": [
       "12"
      ]
     },
     "execution_count": 75,
     "metadata": {},
     "output_type": "execute_result"
    }
   ],
   "source": [
    "word = \"Apple Banana\"\n",
    "len(word)"
   ]
  },
  {
   "cell_type": "code",
   "execution_count": 76,
   "id": "1e0ab117",
   "metadata": {},
   "outputs": [
    {
     "data": {
      "text/plain": [
       "'Apple Orange'"
      ]
     },
     "execution_count": 76,
     "metadata": {},
     "output_type": "execute_result"
    }
   ],
   "source": [
    "word.replace(\"Banana\", \"Orange\")"
   ]
  },
  {
   "cell_type": "code",
   "execution_count": 77,
   "id": "abebd23f",
   "metadata": {},
   "outputs": [
    {
     "data": {
      "text/plain": [
       "'APPLE BANANA'"
      ]
     },
     "execution_count": 77,
     "metadata": {},
     "output_type": "execute_result"
    }
   ],
   "source": [
    "word.upper()"
   ]
  },
  {
   "cell_type": "code",
   "execution_count": 78,
   "id": "da99605a",
   "metadata": {},
   "outputs": [
    {
     "data": {
      "text/plain": [
       "'apple banana'"
      ]
     },
     "execution_count": 78,
     "metadata": {},
     "output_type": "execute_result"
    }
   ],
   "source": [
    "word.lower()"
   ]
  },
  {
   "cell_type": "code",
   "execution_count": 82,
   "id": "117261a6",
   "metadata": {},
   "outputs": [
    {
     "data": {
      "text/plain": [
       "'AppleBanana'"
      ]
     },
     "execution_count": 82,
     "metadata": {},
     "output_type": "execute_result"
    }
   ],
   "source": [
    "word.replace(' ','')"
   ]
  },
  {
   "cell_type": "markdown",
   "id": "8b2e3cd0",
   "metadata": {},
   "source": [
    "# 연습문제 6"
   ]
  },
  {
   "cell_type": "code",
   "execution_count": 1,
   "id": "db638ff2",
   "metadata": {},
   "outputs": [
    {
     "data": {
      "text/plain": [
       "'3000:2000:5000'"
      ]
     },
     "execution_count": 1,
     "metadata": {},
     "output_type": "execute_result"
    }
   ],
   "source": [
    "price = \"3000:2000:5000\"\n",
    "price"
   ]
  },
  {
   "cell_type": "code",
   "execution_count": 2,
   "id": "09918f8c",
   "metadata": {},
   "outputs": [
    {
     "data": {
      "text/plain": [
       "['3000', '2000', '5000']"
      ]
     },
     "execution_count": 2,
     "metadata": {},
     "output_type": "execute_result"
    }
   ],
   "source": [
    "price.split(\":\")"
   ]
  },
  {
   "cell_type": "code",
   "execution_count": 3,
   "id": "a2d427b5",
   "metadata": {},
   "outputs": [
    {
     "data": {
      "text/plain": [
       "['3000', '2000', '5000']"
      ]
     },
     "execution_count": 3,
     "metadata": {},
     "output_type": "execute_result"
    }
   ],
   "source": [
    "my_price = price.split(\":\")\n",
    "my_price"
   ]
  },
  {
   "cell_type": "code",
   "execution_count": 4,
   "id": "2feeedee",
   "metadata": {},
   "outputs": [],
   "source": [
    "apple = int(my_price[0])\n",
    "banana = int(my_price[1])\n",
    "orange = int(my_price[2])"
   ]
  },
  {
   "cell_type": "code",
   "execution_count": 5,
   "id": "c41dfeff",
   "metadata": {},
   "outputs": [],
   "source": [
    "average = (apple + banana + orange)/3"
   ]
  },
  {
   "cell_type": "code",
   "execution_count": 6,
   "id": "49db2f00",
   "metadata": {},
   "outputs": [
    {
     "data": {
      "text/plain": [
       "float"
      ]
     },
     "execution_count": 6,
     "metadata": {},
     "output_type": "execute_result"
    }
   ],
   "source": [
    "type(average)"
   ]
  },
  {
   "cell_type": "code",
   "execution_count": 7,
   "id": "c55fe981",
   "metadata": {},
   "outputs": [
    {
     "name": "stdout",
     "output_type": "stream",
     "text": [
      "과일의 평균 가격은3333.3333333333335입니다.\n"
     ]
    }
   ],
   "source": [
    "print(f'과일의 평균 가격은{average}입니다.')"
   ]
  },
  {
   "cell_type": "code",
   "execution_count": 8,
   "id": "ea08b8ab",
   "metadata": {},
   "outputs": [
    {
     "data": {
      "text/plain": [
       "'3000:2000:5000'"
      ]
     },
     "execution_count": 8,
     "metadata": {},
     "output_type": "execute_result"
    }
   ],
   "source": [
    "price = \"3000:2000:5000\"\n",
    "price"
   ]
  },
  {
   "cell_type": "code",
   "execution_count": 9,
   "id": "6ab5f8f5",
   "metadata": {},
   "outputs": [
    {
     "data": {
      "text/plain": [
       "['3000', '2000', '5000']"
      ]
     },
     "execution_count": 9,
     "metadata": {},
     "output_type": "execute_result"
    }
   ],
   "source": [
    "my_price = price.split(':')\n",
    "my_price"
   ]
  },
  {
   "cell_type": "code",
   "execution_count": 10,
   "id": "658a5627",
   "metadata": {},
   "outputs": [
    {
     "data": {
      "text/plain": [
       "'3000'"
      ]
     },
     "execution_count": 10,
     "metadata": {},
     "output_type": "execute_result"
    }
   ],
   "source": [
    "my_price[0]"
   ]
  },
  {
   "cell_type": "code",
   "execution_count": 11,
   "id": "ef0d9dfd",
   "metadata": {},
   "outputs": [
    {
     "data": {
      "text/plain": [
       "'5000'"
      ]
     },
     "execution_count": 11,
     "metadata": {},
     "output_type": "execute_result"
    }
   ],
   "source": [
    "my_price[2]"
   ]
  },
  {
   "cell_type": "code",
   "execution_count": 12,
   "id": "d782c2d5",
   "metadata": {},
   "outputs": [],
   "source": [
    "apple = int(my_price[0])\n",
    "banana = int(my_price[1])\n",
    "orange = int(my_price[2])"
   ]
  },
  {
   "cell_type": "code",
   "execution_count": 13,
   "id": "e826527d",
   "metadata": {},
   "outputs": [
    {
     "data": {
      "text/plain": [
       "3333.3333333333335"
      ]
     },
     "execution_count": 13,
     "metadata": {},
     "output_type": "execute_result"
    }
   ],
   "source": [
    "average=(apple+banana+orange)/3\n",
    "average"
   ]
  },
  {
   "cell_type": "code",
   "execution_count": 14,
   "id": "eba9a4f7",
   "metadata": {},
   "outputs": [
    {
     "data": {
      "text/plain": [
       "float"
      ]
     },
     "execution_count": 14,
     "metadata": {},
     "output_type": "execute_result"
    }
   ],
   "source": [
    "type(average)"
   ]
  },
  {
   "cell_type": "code",
   "execution_count": 15,
   "id": "cffd7c94",
   "metadata": {},
   "outputs": [
    {
     "name": "stdout",
     "output_type": "stream",
     "text": [
      "과일의 평균 가격은 3333.3333333333335 입니다.\n"
     ]
    }
   ],
   "source": [
    "print(f'과일의 평균 가격은 {average} 입니다.')"
   ]
  },
  {
   "cell_type": "code",
   "execution_count": null,
   "id": "454e3004",
   "metadata": {},
   "outputs": [],
   "source": []
  },
  {
   "cell_type": "code",
   "execution_count": null,
   "id": "8ecf3e59",
   "metadata": {},
   "outputs": [],
   "source": []
  },
  {
   "cell_type": "code",
   "execution_count": null,
   "id": "67a52c93",
   "metadata": {},
   "outputs": [],
   "source": []
  },
  {
   "cell_type": "code",
   "execution_count": null,
   "id": "2c29e44b",
   "metadata": {},
   "outputs": [],
   "source": []
  },
  {
   "cell_type": "code",
   "execution_count": null,
   "id": "112e5481",
   "metadata": {},
   "outputs": [],
   "source": []
  },
  {
   "cell_type": "code",
   "execution_count": null,
   "id": "2373a745",
   "metadata": {},
   "outputs": [],
   "source": []
  },
  {
   "cell_type": "code",
   "execution_count": null,
   "id": "768f875a",
   "metadata": {},
   "outputs": [],
   "source": []
  },
  {
   "cell_type": "code",
   "execution_count": null,
   "id": "97f57334",
   "metadata": {},
   "outputs": [],
   "source": []
  }
 ],
 "metadata": {
  "kernelspec": {
   "display_name": "Python 3 (ipykernel)",
   "language": "python",
   "name": "python3"
  },
  "language_info": {
   "codemirror_mode": {
    "name": "ipython",
    "version": 3
   },
   "file_extension": ".py",
   "mimetype": "text/x-python",
   "name": "python",
   "nbconvert_exporter": "python",
   "pygments_lexer": "ipython3",
   "version": "3.10.12"
  }
 },
 "nbformat": 4,
 "nbformat_minor": 5
}
