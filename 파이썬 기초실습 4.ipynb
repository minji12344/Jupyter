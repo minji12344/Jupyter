{
 "cells": [
  {
   "cell_type": "markdown",
   "id": "d43437b6",
   "metadata": {},
   "source": [
    "## 실습 1"
   ]
  },
  {
   "cell_type": "code",
   "execution_count": 2,
   "id": "e58a5fec",
   "metadata": {},
   "outputs": [],
   "source": [
    "text = str('오늘은 아침부터 저는 자바공부를 열심히 하고 있습니다. 자바는 재미있습니다.')"
   ]
  },
  {
   "cell_type": "code",
   "execution_count": 3,
   "id": "054647bb",
   "metadata": {},
   "outputs": [
    {
     "data": {
      "text/plain": [
       "'오늘은 아침부터 저는 자바공부를 열심히 하고 있습니다. 자바는 재미있습니다.'"
      ]
     },
     "execution_count": 3,
     "metadata": {},
     "output_type": "execute_result"
    }
   ],
   "source": [
    "text"
   ]
  },
  {
   "cell_type": "code",
   "execution_count": 4,
   "id": "6a2c68b9",
   "metadata": {},
   "outputs": [
    {
     "data": {
      "text/plain": [
       "'오늘은 아침부터 저는 파이썬공부를 열심히 하고 있습니다. 파이썬는 재미있습니다.'"
      ]
     },
     "execution_count": 4,
     "metadata": {},
     "output_type": "execute_result"
    }
   ],
   "source": [
    "text.replace(\"자바\",\"파이썬\")"
   ]
  },
  {
   "cell_type": "markdown",
   "id": "18dc5640",
   "metadata": {},
   "source": [
    "## 실습 2"
   ]
  },
  {
   "cell_type": "code",
   "execution_count": 6,
   "id": "b23c2174",
   "metadata": {},
   "outputs": [
    {
     "name": "stdout",
     "output_type": "stream",
     "text": [
      "이름을 입력하세요 :s\n",
      "수학점수를 입력해주세요 :12\n",
      "영어점수를 입력해주세요 :12\n"
     ]
    },
    {
     "data": {
      "text/plain": [
       "{'name': 's', 'math': 12, 'english': 12}"
      ]
     },
     "execution_count": 6,
     "metadata": {},
     "output_type": "execute_result"
    }
   ],
   "source": [
    "students =[]\n",
    "\n",
    "name = input('이름을 입력하세요 :')\n",
    "math = int(input('수학점수를 입력해주세요 :'))\n",
    "english = int(input('영어점수를 입력해주세요 :'))\n",
    "\n",
    "student = {\n",
    "    'name':name,\n",
    "    'math':math,\n",
    "    'english':english\n",
    "}\n",
    "\n",
    "students.append(student)\n",
    "\n",
    "student"
   ]
  },
  {
   "cell_type": "markdown",
   "id": "799d0f17",
   "metadata": {},
   "source": [
    "## 실습 3"
   ]
  },
  {
   "cell_type": "code",
   "execution_count": 22,
   "id": "6f99a6b0",
   "metadata": {},
   "outputs": [],
   "source": [
    "x = {\"name\":\"김민지\",\"math\":40,\"english\":60}"
   ]
  },
  {
   "cell_type": "code",
   "execution_count": 24,
   "id": "0766052e",
   "metadata": {},
   "outputs": [],
   "source": [
    "x[\"math\"] = 80"
   ]
  },
  {
   "cell_type": "code",
   "execution_count": 25,
   "id": "10868f0d",
   "metadata": {},
   "outputs": [
    {
     "data": {
      "text/plain": [
       "{'name': '김민지', 'math': 80, 'english': 60}"
      ]
     },
     "execution_count": 25,
     "metadata": {},
     "output_type": "execute_result"
    }
   ],
   "source": [
    "x"
   ]
  },
  {
   "cell_type": "markdown",
   "id": "e09437e1",
   "metadata": {},
   "source": [
    "## 실습 4"
   ]
  },
  {
   "cell_type": "code",
   "execution_count": 39,
   "id": "fec57a67",
   "metadata": {},
   "outputs": [
    {
     "name": "stdout",
     "output_type": "stream",
     "text": [
      "값을 입력하세요 :2\n",
      "값을 입력하세요 :4\n",
      "값을 입력하세요 :6\n",
      "값을 입력하세요 :2\n",
      "값을 입력하세요 :4\n"
     ]
    }
   ],
   "source": [
    "user_1 = int(input('값을 입력하세요 :'))\n",
    "user_2 = int(input('값을 입력하세요 :'))\n",
    "user_3 = int(input('값을 입력하세요 :'))\n",
    "user_4 = int(input('값을 입력하세요 :'))\n",
    "user_5 = int(input('값을 입력하세요 :'))"
   ]
  },
  {
   "cell_type": "code",
   "execution_count": 40,
   "id": "5b46d6a9",
   "metadata": {},
   "outputs": [],
   "source": [
    "sum = user_1 + user_2 + user_3 + user_4 + user_5\n",
    "average = sum /5"
   ]
  },
  {
   "cell_type": "code",
   "execution_count": 41,
   "id": "7e398719",
   "metadata": {},
   "outputs": [
    {
     "name": "stdout",
     "output_type": "stream",
     "text": [
      "합계 : 18, 평균 :3.6\n"
     ]
    }
   ],
   "source": [
    "print(f'합계 : {sum}, 평균 :{average}')"
   ]
  },
  {
   "cell_type": "markdown",
   "id": "f781f28d",
   "metadata": {},
   "source": [
    "## 실습 5"
   ]
  },
  {
   "cell_type": "code",
   "execution_count": 42,
   "id": "108acc1a",
   "metadata": {},
   "outputs": [
    {
     "name": "stdout",
     "output_type": "stream",
     "text": [
      "값을 입력하세요 :2\n",
      "값을 입력하세요 :4\n",
      "값을 입력하세요 :6\n",
      "값을 입력하세요 :2\n",
      "값을 입력하세요 :4\n"
     ]
    }
   ],
   "source": [
    "user_1 = int(input('값을 입력하세요 :'))\n",
    "user_2 = int(input('값을 입력하세요 :'))\n",
    "user_3 = int(input('값을 입력하세요 :'))\n",
    "user_4 = int(input('값을 입력하세요 :'))\n",
    "user_5 = int(input('값을 입력하세요 :'))"
   ]
  },
  {
   "cell_type": "code",
   "execution_count": 44,
   "id": "a625748c",
   "metadata": {},
   "outputs": [
    {
     "data": {
      "text/plain": [
       "(2, 4, 6, 2, 4)"
      ]
     },
     "execution_count": 44,
     "metadata": {},
     "output_type": "execute_result"
    }
   ],
   "source": [
    "user = user_1, user_2, user_3, user_4, user_5\n",
    "user"
   ]
  },
  {
   "cell_type": "code",
   "execution_count": 45,
   "id": "ac2cf443",
   "metadata": {},
   "outputs": [
    {
     "data": {
      "text/plain": [
       "[2, 4, 6, 2, 4]"
      ]
     },
     "execution_count": 45,
     "metadata": {},
     "output_type": "execute_result"
    }
   ],
   "source": [
    "list(user)"
   ]
  },
  {
   "cell_type": "markdown",
   "id": "018016dd",
   "metadata": {},
   "source": [
    "## 실습 6"
   ]
  },
  {
   "cell_type": "code",
   "execution_count": 122,
   "id": "823cc35e",
   "metadata": {},
   "outputs": [
    {
     "name": "stdout",
     "output_type": "stream",
     "text": [
      "2\n",
      "5\n",
      "숫자가 7 입니다.\n",
      "5\n",
      "8\n",
      "숫자가 3 입니다.\n",
      "6\n",
      "숫자가 7 입니다.\n",
      "숫자가 3 입니다.\n",
      "숫자가 3 입니다.\n",
      "숫자가 7 입니다.\n",
      "8\n",
      "9\n",
      "10\n",
      "2\n"
     ]
    }
   ],
   "source": [
    "x = [2, 5, 7, 5, 8, 3, 6, 7, 3, 3, 7, 8, 9, 10, 2]\n",
    "\n",
    "for idx in x:\n",
    "    if idx == 3 :\n",
    "        print('숫자가 3 입니다.')\n",
    "    elif idx == 7 :\n",
    "        print('숫자가 7 입니다.')\n",
    "    else :\n",
    "        print(idx)"
   ]
  },
  {
   "cell_type": "markdown",
   "id": "5ee54430",
   "metadata": {},
   "source": [
    "## 실습 7"
   ]
  },
  {
   "cell_type": "code",
   "execution_count": 123,
   "id": "ae8a79c8",
   "metadata": {},
   "outputs": [
    {
     "name": "stdout",
     "output_type": "stream",
     "text": [
      "0\n",
      "1\n",
      "2\n",
      "3\n",
      "4\n",
      "5\n",
      "6\n",
      "7\n",
      "8\n"
     ]
    }
   ],
   "source": [
    "x = [2, 5, 7, 5, 8, 3, 4, 5, 7]\n",
    "\n",
    "for idx in range(len(x)) :\n",
    "    if x == 3 and x == 7 :\n",
    "        print(0)\n",
    "    else :\n",
    "        print(idx)"
   ]
  },
  {
   "cell_type": "markdown",
   "id": "0adfcd63",
   "metadata": {},
   "source": [
    "## 실습 8"
   ]
  },
  {
   "cell_type": "code",
   "execution_count": 85,
   "id": "70ceb6ec",
   "metadata": {},
   "outputs": [
    {
     "name": "stdout",
     "output_type": "stream",
     "text": [
      "숫자를 하나 입력해주세요 :13\n",
      "10보다 크다.\n"
     ]
    }
   ],
   "source": [
    "user = int(input('숫자를 하나 입력해주세요 :'))\n",
    "\n",
    "if user>10 :\n",
    "    print('10보다 크다.')\n",
    "else:\n",
    "    print('10보다 작다')"
   ]
  },
  {
   "cell_type": "markdown",
   "id": "04898889",
   "metadata": {},
   "source": [
    "## 실습 9"
   ]
  },
  {
   "cell_type": "code",
   "execution_count": 96,
   "id": "3e06efbb",
   "metadata": {},
   "outputs": [
    {
     "name": "stdout",
     "output_type": "stream",
     "text": [
      "첫번째 점수 :80\n",
      "두번째 점수 :70\n",
      "세번째 점수 :95\n"
     ]
    }
   ],
   "source": [
    "first = int(input('첫번째 점수 :'))\n",
    "second = int(input('두번째 점수 :'))\n",
    "third =int(input('세번째 점수 :'))\n",
    "\n",
    "average = (first + second + third)/3"
   ]
  },
  {
   "cell_type": "code",
   "execution_count": 97,
   "id": "fa9dd2a6",
   "metadata": {},
   "outputs": [
    {
     "name": "stdout",
     "output_type": "stream",
     "text": [
      "합격\n"
     ]
    }
   ],
   "source": [
    "if average > 50 :\n",
    "    print('합격')\n",
    "else :\n",
    "    print('불합격')"
   ]
  },
  {
   "cell_type": "markdown",
   "id": "6202d47e",
   "metadata": {},
   "source": [
    "## 실습 10"
   ]
  },
  {
   "cell_type": "code",
   "execution_count": 112,
   "id": "2042b45d",
   "metadata": {},
   "outputs": [
    {
     "name": "stdout",
     "output_type": "stream",
     "text": [
      "첫번째 점수 :80\n",
      "두번째 점수 :70\n",
      "세번째 점수 :20\n",
      "불합격\n"
     ]
    }
   ],
   "source": [
    "first = int(input('첫번째 점수 :'))\n",
    "second = int(input('두번째 점수 :'))\n",
    "third = int(input('세번째 점수 :'))\n",
    "\n",
    "average = (first + second + third)/3\n",
    "\n",
    "\n",
    "if first < 30 :\n",
    "    print('불합격')\n",
    "elif second < 30:\n",
    "    print('불합격')\n",
    "elif third < 30:\n",
    "    print('불합격')\n",
    "elif average > 50:\n",
    "    print('합격')\n",
    "else :\n",
    "    print('불합격')\n",
    "\n",
    "# if first < 30 and second < 30 and third < 30:\n",
    "#     print('불합격')\n",
    "# elif average > 50:\n",
    "#     print('합격')\n",
    "# else :\n",
    "#     print('불합격')\n",
    "\n",
    "# if average > 50:\n",
    "#     print('합격')\n",
    "# elif first < 30 :\n",
    "#     print('불합격')\n",
    "# elif second < 30:\n",
    "#     print('불합격')\n",
    "# elif third < 30:\n",
    "#     print('불합격')\n",
    "# else :\n",
    "#     print('불합격')"
   ]
  },
  {
   "cell_type": "markdown",
   "id": "33b91e86",
   "metadata": {},
   "source": [
    "## 실습 11"
   ]
  },
  {
   "cell_type": "code",
   "execution_count": 10,
   "id": "bad0973a",
   "metadata": {},
   "outputs": [
    {
     "name": "stdout",
     "output_type": "stream",
     "text": [
      "숫자를 입력하세요 :1\n",
      "숫자를 입력하세요 :2\n",
      "숫자를 입력하세요 :3\n",
      "숫자를 입력하세요 :0\n",
      "숫자를 입력하세요 :1\n",
      "숫자를 입력하세요 :2\n",
      "숫자를 입력하세요 :3\n",
      "숫자를 입력하세요 :0\n",
      "숫자를 입력하세요 :12\n",
      "숫자를 입력하세요 :3\n"
     ]
    },
    {
     "data": {
      "text/plain": [
       "['홀수', '짝수', '홀수', 0, '홀수', '짝수', '홀수', 0, '짝수', '홀수']"
      ]
     },
     "execution_count": 10,
     "metadata": {},
     "output_type": "execute_result"
    }
   ],
   "source": [
    "num =[]\n",
    "\n",
    "for idx in range(10):\n",
    "    x=int(input('숫자를 입력하세요 :'))\n",
    "    \n",
    "    if x ==0:\n",
    "        num.append(x)\n",
    "    elif x % 2 ==0:\n",
    "        num.append('짝수')\n",
    "    else:\n",
    "        num.append('홀수')\n",
    "        \n",
    "num"
   ]
  },
  {
   "cell_type": "markdown",
   "id": "344bfe5e",
   "metadata": {},
   "source": [
    "# 12"
   ]
  },
  {
   "cell_type": "code",
   "execution_count": 12,
   "id": "72afb68b",
   "metadata": {},
   "outputs": [
    {
     "name": "stdout",
     "output_type": "stream",
     "text": [
      "이름 :a\n",
      "성별 :s\n",
      "나이 :14\n",
      "이름 :s\n",
      "성별 :d\n",
      "나이 :1\n",
      "이름 :s\n",
      "성별 :a\n",
      "나이 :1\n"
     ]
    },
    {
     "data": {
      "text/plain": [
       "[{'name': 'a', 'gender': 's', 'age': 14},\n",
       " {'name': 's', 'gender': 'd', 'age': 1},\n",
       " {'name': 's', 'gender': 'a', 'age': 1}]"
      ]
     },
     "execution_count": 12,
     "metadata": {},
     "output_type": "execute_result"
    }
   ],
   "source": [
    "m=[]\n",
    "\n",
    "for idx in range(3):\n",
    "    n=input('이름 :')\n",
    "    g=input('성별 :')\n",
    "    a=int(input('나이 :'))\n",
    "    \n",
    "    s ={\n",
    "        'name':n,\n",
    "        'gender':g,\n",
    "        'age':a\n",
    "    }\n",
    "    \n",
    "    m.append(s)\n",
    "    \n",
    "m"
   ]
  },
  {
   "cell_type": "markdown",
   "id": "ed3a37ff",
   "metadata": {},
   "source": [
    "# 13"
   ]
  },
  {
   "cell_type": "code",
   "execution_count": 15,
   "id": "03bfb9db",
   "metadata": {},
   "outputs": [
    {
     "name": "stdout",
     "output_type": "stream",
     "text": [
      "첫번째1\n",
      "두번째2\n",
      "세번째3\n",
      "어떤 계산 ?전체\n",
      "평균 2.0, 합계 6\n",
      "첫번째1\n",
      "두번째2\n",
      "세번째3\n",
      "어떤 계산 ?합계\n",
      "합계는 6입니다\n",
      "첫번째1\n",
      "두번째2\n",
      "세번째3\n",
      "어떤 계산 ?평균\n",
      "평균은 2.0입니다\n",
      "첫번째1\n",
      "두번째2\n",
      "세번째3\n",
      "어떤 계산 ?ㄴ\n",
      "잘못입력했습니다.\n"
     ]
    }
   ],
   "source": [
    "for idx in range(4):\n",
    "    a=int(input('첫번째'))\n",
    "    b=int(input('두번째'))\n",
    "    c=int(input('세번째'))\n",
    "    d=input('어떤 계산 ?')\n",
    "    \n",
    "    s=a+b+c\n",
    "    c=s/3\n",
    "    \n",
    "    if '평균' == d:\n",
    "        print(f'평균은 {c}입니다')\n",
    "    elif '합계' == d:\n",
    "        print(f'합계는 {s}입니다')\n",
    "    elif '전체' == d:\n",
    "        print(f'평균 {c}, 합계 {s}')  \n",
    "    else:\n",
    "        print('잘못입력했습니다.')\n",
    "        \n",
    "        "
   ]
  },
  {
   "cell_type": "code",
   "execution_count": null,
   "id": "7b85527a",
   "metadata": {},
   "outputs": [],
   "source": []
  },
  {
   "cell_type": "code",
   "execution_count": 9,
   "id": "00b91b6d",
   "metadata": {},
   "outputs": [
    {
     "name": "stdout",
     "output_type": "stream",
     "text": [
      "평균 : 9\n"
     ]
    }
   ],
   "source": [
    "b=0\n",
    "c=0\n",
    "    \n",
    "x = [2, 5, 7, 5, 8, 3, 4, 5, 7]\n",
    "\n",
    "\n",
    "for idx in range(len(x)):\n",
    "    a += x[idx]\n",
    "    c += 1\n",
    "\n",
    "print(f\"평균 : {c}\")\n"
   ]
  },
  {
   "cell_type": "code",
   "execution_count": null,
   "id": "4f2ed579",
   "metadata": {},
   "outputs": [],
   "source": []
  },
  {
   "cell_type": "code",
   "execution_count": null,
   "id": "78a2994d",
   "metadata": {},
   "outputs": [],
   "source": []
  }
 ],
 "metadata": {
  "kernelspec": {
   "display_name": "Python 3 (ipykernel)",
   "language": "python",
   "name": "python3"
  },
  "language_info": {
   "codemirror_mode": {
    "name": "ipython",
    "version": 3
   },
   "file_extension": ".py",
   "mimetype": "text/x-python",
   "name": "python",
   "nbconvert_exporter": "python",
   "pygments_lexer": "ipython3",
   "version": "3.11.3"
  }
 },
 "nbformat": 4,
 "nbformat_minor": 5
}
